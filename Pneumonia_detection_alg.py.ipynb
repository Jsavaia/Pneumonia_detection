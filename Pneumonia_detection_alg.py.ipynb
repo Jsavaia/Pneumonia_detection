{
  "cells": [
    {
      "cell_type": "code",
      "execution_count": null,
      "metadata": {
        "id": "03uQLxWJXy04"
      },
      "outputs": [],
      "source": []
    },
    {
      "cell_type": "markdown",
      "metadata": {
        "id": "N8N0Ti7jYYSF"
      },
      "source": []
    },
    {
      "cell_type": "code",
      "execution_count": null,
      "metadata": {
        "colab": {
          "base_uri": "https://localhost:8080/"
        },
        "id": "uKZq4T-Fa6Nl",
        "outputId": "d15c8cf1-dd21-4d89-9985-07e623991a40"
      },
      "outputs": [
        {
          "output_type": "stream",
          "name": "stdout",
          "text": [
            "cp: cannot stat 'kaggle.json': No such file or directory\n",
            "chmod: cannot access '/root/.kaggle/kaggle.json': No such file or directory\n"
          ]
        }
      ],
      "source": [
        "# Move kaggle.json into the ~/.kaggle directory\n",
        "!mkdir -p ~/.kaggle\n",
        "!cp kaggle.json ~/.kaggle/\n",
        "\n",
        "# Set permissions to avoid permission errors\n",
        "!chmod 600 ~/.kaggle/kaggle.json"
      ]
    },
    {
      "cell_type": "code",
      "source": [
        "import os\n",
        "import kagglehub\n",
        "\n",
        "# Download latest version\n",
        "path = kagglehub.dataset_download(\"paultimothymooney/chest-xray-pneumonia\")\n",
        "\n",
        "print(\"Path to dataset files:\", path)\n",
        "print(\"Contents of dataset directory:\", os.listdir(path))\n",
        "print(\"Contents of dataset directory:\", os.listdir(os.path.join(path, \"chest_xray\", \"chest_xray\")))\n",
        "\n",
        "# Define a function to count images in a given directory\n",
        "def count_images_in_subsets(base_dir, subsets=(\"train\", \"val\", \"test\")):\n",
        "    results = {}\n",
        "    grand_total = 0  # Track total images across all subsets\n",
        "\n",
        "    for subset in subsets:\n",
        "        subset_dir = os.path.join(base_dir, subset)\n",
        "        counts = {}\n",
        "        total = 0\n",
        "\n",
        "        if os.path.exists(subset_dir):\n",
        "            for class_name in os.listdir(subset_dir):\n",
        "                class_dir = os.path.join(subset_dir, class_name)\n",
        "                if os.path.isdir(class_dir):\n",
        "                    num_files = len([\n",
        "                        f for f in os.listdir(class_dir)\n",
        "                        if os.path.isfile(os.path.join(class_dir, f))\n",
        "                    ])\n",
        "                    counts[class_name] = num_files\n",
        "                    total += num_files\n",
        "\n",
        "        results[subset] = {\"total\": total, \"counts\": counts}\n",
        "        grand_total += total\n",
        "\n",
        "    results[\"grand_total\"] = grand_total\n",
        "    return results\n",
        "\n",
        "# Based on the printed structure, the actual images seem to reside in:\n",
        "base_dir = os.path.join(path, \"chest_xray\", \"chest_xray\")\n",
        "\n",
        "count_images_in_subsets(base_dir)"
      ],
      "metadata": {
        "colab": {
          "base_uri": "https://localhost:8080/"
        },
        "id": "GdNa2_Kxyhxb",
        "outputId": "25b9c81e-a6f7-4250-babb-c0f756aaf038"
      },
      "execution_count": null,
      "outputs": [
        {
          "output_type": "stream",
          "name": "stdout",
          "text": [
            "Downloading from https://www.kaggle.com/api/v1/datasets/download/paultimothymooney/chest-xray-pneumonia?dataset_version_number=2...\n"
          ]
        },
        {
          "output_type": "stream",
          "name": "stderr",
          "text": [
            "100%|██████████| 2.29G/2.29G [01:17<00:00, 31.6MB/s]"
          ]
        },
        {
          "output_type": "stream",
          "name": "stdout",
          "text": [
            "Extracting files...\n"
          ]
        },
        {
          "output_type": "stream",
          "name": "stderr",
          "text": [
            "\n"
          ]
        },
        {
          "output_type": "stream",
          "name": "stdout",
          "text": [
            "Path to dataset files: /root/.cache/kagglehub/datasets/paultimothymooney/chest-xray-pneumonia/versions/2\n",
            "Contents of dataset directory: ['chest_xray']\n",
            "Contents of dataset directory: ['train', '.DS_Store', 'val', 'test']\n"
          ]
        },
        {
          "output_type": "execute_result",
          "data": {
            "text/plain": [
              "{'train': {'total': 5218, 'counts': {'NORMAL': 1342, 'PNEUMONIA': 3876}},\n",
              " 'val': {'total': 18, 'counts': {'NORMAL': 9, 'PNEUMONIA': 9}},\n",
              " 'test': {'total': 624, 'counts': {'NORMAL': 234, 'PNEUMONIA': 390}},\n",
              " 'grand_total': 5860}"
            ]
          },
          "metadata": {},
          "execution_count": 2
        }
      ]
    },
    {
      "cell_type": "code",
      "execution_count": null,
      "metadata": {
        "colab": {
          "base_uri": "https://localhost:8080/"
        },
        "id": "COTbXrvUbvHB",
        "outputId": "02f49fe8-47cd-4872-b15a-017985104ac5"
      },
      "outputs": [
        {
          "output_type": "stream",
          "name": "stdout",
          "text": [
            "Files successfully moved to 'data/' directory.\n"
          ]
        },
        {
          "output_type": "execute_result",
          "data": {
            "text/plain": [
              "{'train': {'total': 5218, 'counts': {'NORMAL': 1342, 'PNEUMONIA': 3876}},\n",
              " 'val': {'total': 18, 'counts': {'NORMAL': 9, 'PNEUMONIA': 9}},\n",
              " 'test': {'total': 624, 'counts': {'NORMAL': 234, 'PNEUMONIA': 390}},\n",
              " 'grand_total': 5860}"
            ]
          },
          "metadata": {},
          "execution_count": 3
        }
      ],
      "source": [
        "import os\n",
        "import shutil\n",
        "\n",
        "# Ensure 'data/' directory exists\n",
        "os.makedirs('data', exist_ok=True)\n",
        "\n",
        "# Move all files/directories from 'base_dir' to 'data/'\n",
        "for item in os.listdir(base_dir):\n",
        "    shutil.move(os.path.join(base_dir, item), 'data/')\n",
        "\n",
        "print(\"Files successfully moved to 'data/' directory.\")\n",
        "\n",
        "count_images_in_subsets('data')"
      ]
    },
    {
      "cell_type": "markdown",
      "metadata": {
        "id": "9ZLQoKDycQRH"
      },
      "source": [
        "Data Loading and Preprocessing"
      ]
    },
    {
      "cell_type": "markdown",
      "source": [
        "Rebalancing the dataset split:\n",
        "A very small validation set (only 16 images) may not provide a robust estimate for hyperparameter tuning. 70/20/10 split (train/validation/test) could be  better for training stability and reliable validation feedback.\n",
        "\n",
        "Class imbalance:\n",
        "The training data shows a significant imbalance (NORMAL: 1342 vs PNEUMONIA: 3876). We can compute class weights so that the model can give more importance to the minority class."
      ],
      "metadata": {
        "id": "nAMuYLJS0wtn"
      }
    },
    {
      "cell_type": "code",
      "source": [
        "import numpy as np\n",
        "import tensorflow as tf\n",
        "from tensorflow.keras.preprocessing.image import ImageDataGenerator\n",
        "from sklearn.utils.class_weight import compute_class_weight\n",
        "import os\n",
        "import random\n",
        "import shutil\n",
        "\n",
        "def split_dataset(original_dir, train_dir, val_dir, test_dir,\n",
        "                  train_ratio=0.7, val_ratio=0.2, test_ratio=0.1, seed=42):\n",
        "    \"\"\"\n",
        "    Splits the dataset from the original_dir into train, validation, and test sets.\n",
        "    original_dir should contain subdirectories for each class with image files.\n",
        "    \"\"\"\n",
        "    random.seed(seed)\n",
        "\n",
        "    # Ensure target directories exist (or re-create them)\n",
        "    for d in [train_dir, val_dir, test_dir]:\n",
        "        if os.path.exists(d):\n",
        "            shutil.rmtree(d)\n",
        "        os.makedirs(d)\n",
        "\n",
        "    # Iterate over each class in the original dataset\n",
        "    for class_name in os.listdir(original_dir):\n",
        "        class_dir = os.path.join(original_dir, class_name)\n",
        "        if not os.path.isdir(class_dir):\n",
        "            continue\n",
        "\n",
        "        # Only consider files (ignore directories)\n",
        "        images = [f for f in os.listdir(class_dir) if os.path.isfile(os.path.join(class_dir, f))]\n",
        "        random.shuffle(images)\n",
        "        total = len(images)\n",
        "        train_count = int(total * train_ratio)\n",
        "        val_count = int(total * val_ratio)\n",
        "\n",
        "        train_images = images[:train_count]\n",
        "        val_images = images[train_count:train_count + val_count]\n",
        "        test_images = images[train_count + val_count:]\n",
        "\n",
        "        # Create class-specific directories in target folders if they don't exist\n",
        "        for d in [train_dir, val_dir, test_dir]:\n",
        "            target_class_dir = os.path.join(d, class_name)\n",
        "            if not os.path.exists(target_class_dir):\n",
        "                os.makedirs(target_class_dir)\n",
        "\n",
        "        # Copy the files to the appropriate directories\n",
        "        for img in train_images:\n",
        "            shutil.copy2(os.path.join(class_dir, img), os.path.join(train_dir, class_name, img))\n",
        "        for img in val_images:\n",
        "            shutil.copy2(os.path.join(class_dir, img), os.path.join(val_dir, class_name, img))\n",
        "        for img in test_images:\n",
        "            shutil.copy2(os.path.join(class_dir, img), os.path.join(test_dir, class_name, img))\n",
        "\n",
        "def merge_datasets(subset_dirs, merged_dir):\n",
        "    \"\"\"\n",
        "    Merges images from a list of subset directories (e.g. train, val, test)\n",
        "    into a single directory with the same class subdirectories.\n",
        "    \"\"\"\n",
        "    if os.path.exists(merged_dir):\n",
        "        shutil.rmtree(merged_dir)\n",
        "    os.makedirs(merged_dir)\n",
        "\n",
        "    for subset in subset_dirs:\n",
        "        subset_dir = os.path.join(\"data\", subset)\n",
        "        for class_name in os.listdir(subset_dir):\n",
        "            src_class_dir = os.path.join(subset_dir, class_name)\n",
        "            if not os.path.isdir(src_class_dir):\n",
        "                continue\n",
        "            dst_class_dir = os.path.join(merged_dir, class_name)\n",
        "            if not os.path.exists(dst_class_dir):\n",
        "                os.makedirs(dst_class_dir)\n",
        "            for file in os.listdir(src_class_dir):\n",
        "                src_file = os.path.join(src_class_dir, file)\n",
        "                if os.path.isfile(src_file):\n",
        "                    dst_file = os.path.join(dst_class_dir, file)\n",
        "                    # If a file with the same name exists, append a random number.\n",
        "                    if os.path.exists(dst_file):\n",
        "                        base, ext = os.path.splitext(file)\n",
        "                        dst_file = os.path.join(dst_class_dir, f\"{base}_{random.randint(1000,9999)}{ext}\")\n",
        "                    shutil.copy2(src_file, dst_file)\n",
        "\n",
        "# Merge the existing train, val, and test folders into one merged directory.\n",
        "merged_dir = os.path.join(\"data\", \"merged\")\n",
        "merge_datasets(subset_dirs=[\"train\", \"val\", \"test\"], merged_dir=merged_dir)\n",
        "\n",
        "# Re-split the merged dataset into new train, val, and test folders (70/20/10)\n",
        "train_dir = os.path.join(\"data\", \"train\")\n",
        "val_dir   = os.path.join(\"data\", \"val\")\n",
        "test_dir  = os.path.join(\"data\", \"test\")\n",
        "split_dataset(merged_dir, train_dir, val_dir, test_dir, train_ratio=0.7, val_ratio=0.2, test_ratio=0.1)\n",
        "\n",
        "image_counts = count_images_in_subsets('data')\n",
        "print(image_counts)\n",
        "\n",
        "# Image augmentation and data generators\n",
        "IMG_HEIGHT = 180\n",
        "IMG_WIDTH  = 180\n",
        "\n",
        "# Create an ImageDataGenerator for augmentation on training data\n",
        "train_datagen = ImageDataGenerator(\n",
        "    rescale=1.0/255.0,       # normalise pixel values\n",
        "    rotation_range=15,       # random rotations up to 15 degrees\n",
        "    width_shift_range=0.1,   # horizontal shift 10%\n",
        "    height_shift_range=0.1,  # vertical shift 10%\n",
        "    shear_range=0.1,         # shear by 10%\n",
        "    zoom_range=0.1,          # zoom in/out 10%\n",
        "    horizontal_flip=True,    # flip horizontally\n",
        "    fill_mode='nearest'      # fill pixels after transform\n",
        ")\n",
        "# For validation and test, we only rescale (no augmentation)\n",
        "val_datagen  = ImageDataGenerator(rescale=1.0/255.0)\n",
        "test_datagen = ImageDataGenerator(rescale=1.0/255.0)\n",
        "\n",
        "train_gen = train_datagen.flow_from_directory(\n",
        "    train_dir,\n",
        "    target_size=(IMG_HEIGHT, IMG_WIDTH),\n",
        "    class_mode='binary',\n",
        "    batch_size=32,\n",
        "    shuffle=True\n",
        ")\n",
        "val_gen = val_datagen.flow_from_directory(\n",
        "    val_dir,\n",
        "    target_size=(IMG_HEIGHT, IMG_WIDTH),\n",
        "    class_mode='binary',\n",
        "    batch_size=32,\n",
        "    shuffle=False\n",
        ")\n",
        "test_gen = test_datagen.flow_from_directory(\n",
        "    test_dir,\n",
        "    target_size=(IMG_HEIGHT, IMG_WIDTH),\n",
        "    class_mode='binary',\n",
        "    batch_size=32,\n",
        "    shuffle=False\n",
        ")\n",
        "\n",
        "image_counts = count_images_in_subsets('data')\n",
        "print(image_counts)\n",
        "\n",
        "# Compute class weights to address imbalance in the training data.\n",
        "class_labels = train_gen.classes\n",
        "classes = np.unique(class_labels)\n",
        "class_weights = compute_class_weight(class_weight='balanced', classes=classes, y=class_labels)\n",
        "class_weights = dict(enumerate(class_weights))\n",
        "print(\"Computed class weights:\", class_weights)"
      ],
      "metadata": {
        "colab": {
          "base_uri": "https://localhost:8080/"
        },
        "id": "ESUMHUxMlznH",
        "outputId": "28da80c7-998d-4484-c441-4b337ace6f31"
      },
      "execution_count": null,
      "outputs": [
        {
          "output_type": "stream",
          "name": "stdout",
          "text": [
            "{'train': {'total': 4101, 'counts': {'NORMAL': 1109, 'PNEUMONIA': 2992}}, 'val': {'total': 1172, 'counts': {'NORMAL': 317, 'PNEUMONIA': 855}}, 'test': {'total': 587, 'counts': {'NORMAL': 159, 'PNEUMONIA': 428}}, 'grand_total': 5860}\n",
            "Found 4099 images belonging to 2 classes.\n",
            "Found 1171 images belonging to 2 classes.\n",
            "Found 586 images belonging to 2 classes.\n",
            "{'train': {'total': 4101, 'counts': {'NORMAL': 1109, 'PNEUMONIA': 2992}}, 'val': {'total': 1172, 'counts': {'NORMAL': 317, 'PNEUMONIA': 855}}, 'test': {'total': 587, 'counts': {'NORMAL': 159, 'PNEUMONIA': 428}}, 'grand_total': 5860}\n",
            "Computed class weights: {0: 1.8514001806684734, 1: 0.6849933155080213}\n"
          ]
        }
      ]
    },
    {
      "cell_type": "markdown",
      "metadata": {
        "id": "I8U61F2ycRpm"
      },
      "source": [
        "Build the CNN model"
      ]
    },
    {
      "cell_type": "markdown",
      "source": [
        "✅ Added SE Attention Block (at the last convolutional block)\n",
        "\n",
        "✅ Increased Depth to 5 Convolutional Layers (compared to the original 3)\n",
        "\n",
        "✅ Used Multi-Scale Feature Extraction (3x3 for details, 5x5 for larger features)\n",
        "\n",
        "✅ Replaced Flatten with Global Average Pooling (GAP reduces parameters)\n",
        "\n",
        "✅ Optimized Fully Connected Layers (Dense 256 instead of multiple layers)"
      ],
      "metadata": {
        "id": "PRuCmDnKxobh"
      }
    },
    {
      "cell_type": "code",
      "execution_count": null,
      "metadata": {
        "colab": {
          "base_uri": "https://localhost:8080/",
          "height": 1000
        },
        "id": "OjItvW_OcRPD",
        "outputId": "003a620c-da64-4819-c6a6-e3def81cb43b"
      },
      "outputs": [
        {
          "output_type": "display_data",
          "data": {
            "text/plain": [
              "\u001b[1mModel: \"sequential_2\"\u001b[0m\n"
            ],
            "text/html": [
              "<pre style=\"white-space:pre;overflow-x:auto;line-height:normal;font-family:Menlo,'DejaVu Sans Mono',consolas,'Courier New',monospace\"><span style=\"font-weight: bold\">Model: \"sequential_2\"</span>\n",
              "</pre>\n"
            ]
          },
          "metadata": {}
        },
        {
          "output_type": "display_data",
          "data": {
            "text/plain": [
              "┏━━━━━━━━━━━━━━━━━━━━━━━━━━━━━━━━━━━━━━┳━━━━━━━━━━━━━━━━━━━━━━━━━━━━━┳━━━━━━━━━━━━━━━━━┓\n",
              "┃\u001b[1m \u001b[0m\u001b[1mLayer (type)                        \u001b[0m\u001b[1m \u001b[0m┃\u001b[1m \u001b[0m\u001b[1mOutput Shape               \u001b[0m\u001b[1m \u001b[0m┃\u001b[1m \u001b[0m\u001b[1m        Param #\u001b[0m\u001b[1m \u001b[0m┃\n",
              "┡━━━━━━━━━━━━━━━━━━━━━━━━━━━━━━━━━━━━━━╇━━━━━━━━━━━━━━━━━━━━━━━━━━━━━╇━━━━━━━━━━━━━━━━━┩\n",
              "│ conv2d_15 (\u001b[38;5;33mConv2D\u001b[0m)                   │ (\u001b[38;5;45mNone\u001b[0m, \u001b[38;5;34m224\u001b[0m, \u001b[38;5;34m224\u001b[0m, \u001b[38;5;34m32\u001b[0m)        │             \u001b[38;5;34m896\u001b[0m │\n",
              "├──────────────────────────────────────┼─────────────────────────────┼─────────────────┤\n",
              "│ batch_normalization_18               │ (\u001b[38;5;45mNone\u001b[0m, \u001b[38;5;34m224\u001b[0m, \u001b[38;5;34m224\u001b[0m, \u001b[38;5;34m32\u001b[0m)        │             \u001b[38;5;34m128\u001b[0m │\n",
              "│ (\u001b[38;5;33mBatchNormalization\u001b[0m)                 │                             │                 │\n",
              "├──────────────────────────────────────┼─────────────────────────────┼─────────────────┤\n",
              "│ max_pooling2d_13 (\u001b[38;5;33mMaxPooling2D\u001b[0m)      │ (\u001b[38;5;45mNone\u001b[0m, \u001b[38;5;34m112\u001b[0m, \u001b[38;5;34m112\u001b[0m, \u001b[38;5;34m32\u001b[0m)        │               \u001b[38;5;34m0\u001b[0m │\n",
              "├──────────────────────────────────────┼─────────────────────────────┼─────────────────┤\n",
              "│ conv2d_16 (\u001b[38;5;33mConv2D\u001b[0m)                   │ (\u001b[38;5;45mNone\u001b[0m, \u001b[38;5;34m112\u001b[0m, \u001b[38;5;34m112\u001b[0m, \u001b[38;5;34m64\u001b[0m)        │          \u001b[38;5;34m18,496\u001b[0m │\n",
              "├──────────────────────────────────────┼─────────────────────────────┼─────────────────┤\n",
              "│ batch_normalization_19               │ (\u001b[38;5;45mNone\u001b[0m, \u001b[38;5;34m112\u001b[0m, \u001b[38;5;34m112\u001b[0m, \u001b[38;5;34m64\u001b[0m)        │             \u001b[38;5;34m256\u001b[0m │\n",
              "│ (\u001b[38;5;33mBatchNormalization\u001b[0m)                 │                             │                 │\n",
              "├──────────────────────────────────────┼─────────────────────────────┼─────────────────┤\n",
              "│ max_pooling2d_14 (\u001b[38;5;33mMaxPooling2D\u001b[0m)      │ (\u001b[38;5;45mNone\u001b[0m, \u001b[38;5;34m56\u001b[0m, \u001b[38;5;34m56\u001b[0m, \u001b[38;5;34m64\u001b[0m)          │               \u001b[38;5;34m0\u001b[0m │\n",
              "├──────────────────────────────────────┼─────────────────────────────┼─────────────────┤\n",
              "│ conv2d_17 (\u001b[38;5;33mConv2D\u001b[0m)                   │ (\u001b[38;5;45mNone\u001b[0m, \u001b[38;5;34m56\u001b[0m, \u001b[38;5;34m56\u001b[0m, \u001b[38;5;34m128\u001b[0m)         │          \u001b[38;5;34m73,856\u001b[0m │\n",
              "├──────────────────────────────────────┼─────────────────────────────┼─────────────────┤\n",
              "│ batch_normalization_20               │ (\u001b[38;5;45mNone\u001b[0m, \u001b[38;5;34m56\u001b[0m, \u001b[38;5;34m56\u001b[0m, \u001b[38;5;34m128\u001b[0m)         │             \u001b[38;5;34m512\u001b[0m │\n",
              "│ (\u001b[38;5;33mBatchNormalization\u001b[0m)                 │                             │                 │\n",
              "├──────────────────────────────────────┼─────────────────────────────┼─────────────────┤\n",
              "│ max_pooling2d_15 (\u001b[38;5;33mMaxPooling2D\u001b[0m)      │ (\u001b[38;5;45mNone\u001b[0m, \u001b[38;5;34m28\u001b[0m, \u001b[38;5;34m28\u001b[0m, \u001b[38;5;34m128\u001b[0m)         │               \u001b[38;5;34m0\u001b[0m │\n",
              "├──────────────────────────────────────┼─────────────────────────────┼─────────────────┤\n",
              "│ dropout_10 (\u001b[38;5;33mDropout\u001b[0m)                 │ (\u001b[38;5;45mNone\u001b[0m, \u001b[38;5;34m28\u001b[0m, \u001b[38;5;34m28\u001b[0m, \u001b[38;5;34m128\u001b[0m)         │               \u001b[38;5;34m0\u001b[0m │\n",
              "├──────────────────────────────────────┼─────────────────────────────┼─────────────────┤\n",
              "│ conv2d_18 (\u001b[38;5;33mConv2D\u001b[0m)                   │ (\u001b[38;5;45mNone\u001b[0m, \u001b[38;5;34m28\u001b[0m, \u001b[38;5;34m28\u001b[0m, \u001b[38;5;34m256\u001b[0m)         │         \u001b[38;5;34m295,168\u001b[0m │\n",
              "├──────────────────────────────────────┼─────────────────────────────┼─────────────────┤\n",
              "│ batch_normalization_21               │ (\u001b[38;5;45mNone\u001b[0m, \u001b[38;5;34m28\u001b[0m, \u001b[38;5;34m28\u001b[0m, \u001b[38;5;34m256\u001b[0m)         │           \u001b[38;5;34m1,024\u001b[0m │\n",
              "│ (\u001b[38;5;33mBatchNormalization\u001b[0m)                 │                             │                 │\n",
              "├──────────────────────────────────────┼─────────────────────────────┼─────────────────┤\n",
              "│ max_pooling2d_16 (\u001b[38;5;33mMaxPooling2D\u001b[0m)      │ (\u001b[38;5;45mNone\u001b[0m, \u001b[38;5;34m14\u001b[0m, \u001b[38;5;34m14\u001b[0m, \u001b[38;5;34m256\u001b[0m)         │               \u001b[38;5;34m0\u001b[0m │\n",
              "├──────────────────────────────────────┼─────────────────────────────┼─────────────────┤\n",
              "│ dropout_11 (\u001b[38;5;33mDropout\u001b[0m)                 │ (\u001b[38;5;45mNone\u001b[0m, \u001b[38;5;34m14\u001b[0m, \u001b[38;5;34m14\u001b[0m, \u001b[38;5;34m256\u001b[0m)         │               \u001b[38;5;34m0\u001b[0m │\n",
              "├──────────────────────────────────────┼─────────────────────────────┼─────────────────┤\n",
              "│ conv2d_19 (\u001b[38;5;33mConv2D\u001b[0m)                   │ (\u001b[38;5;45mNone\u001b[0m, \u001b[38;5;34m14\u001b[0m, \u001b[38;5;34m14\u001b[0m, \u001b[38;5;34m512\u001b[0m)         │       \u001b[38;5;34m3,277,312\u001b[0m │\n",
              "├──────────────────────────────────────┼─────────────────────────────┼─────────────────┤\n",
              "│ batch_normalization_22               │ (\u001b[38;5;45mNone\u001b[0m, \u001b[38;5;34m14\u001b[0m, \u001b[38;5;34m14\u001b[0m, \u001b[38;5;34m512\u001b[0m)         │           \u001b[38;5;34m2,048\u001b[0m │\n",
              "│ (\u001b[38;5;33mBatchNormalization\u001b[0m)                 │                             │                 │\n",
              "├──────────────────────────────────────┼─────────────────────────────┼─────────────────┤\n",
              "│ max_pooling2d_17 (\u001b[38;5;33mMaxPooling2D\u001b[0m)      │ (\u001b[38;5;45mNone\u001b[0m, \u001b[38;5;34m7\u001b[0m, \u001b[38;5;34m7\u001b[0m, \u001b[38;5;34m512\u001b[0m)           │               \u001b[38;5;34m0\u001b[0m │\n",
              "├──────────────────────────────────────┼─────────────────────────────┼─────────────────┤\n",
              "│ dropout_12 (\u001b[38;5;33mDropout\u001b[0m)                 │ (\u001b[38;5;45mNone\u001b[0m, \u001b[38;5;34m7\u001b[0m, \u001b[38;5;34m7\u001b[0m, \u001b[38;5;34m512\u001b[0m)           │               \u001b[38;5;34m0\u001b[0m │\n",
              "├──────────────────────────────────────┼─────────────────────────────┼─────────────────┤\n",
              "│ se_block (\u001b[38;5;33mSEBlock\u001b[0m)                   │ (\u001b[38;5;45mNone\u001b[0m, \u001b[38;5;34m7\u001b[0m, \u001b[38;5;34m7\u001b[0m, \u001b[38;5;34m512\u001b[0m)           │          \u001b[38;5;34m32,768\u001b[0m │\n",
              "├──────────────────────────────────────┼─────────────────────────────┼─────────────────┤\n",
              "│ global_average_pooling2d_7           │ (\u001b[38;5;45mNone\u001b[0m, \u001b[38;5;34m512\u001b[0m)                 │               \u001b[38;5;34m0\u001b[0m │\n",
              "│ (\u001b[38;5;33mGlobalAveragePooling2D\u001b[0m)             │                             │                 │\n",
              "├──────────────────────────────────────┼─────────────────────────────┼─────────────────┤\n",
              "│ dense_13 (\u001b[38;5;33mDense\u001b[0m)                     │ (\u001b[38;5;45mNone\u001b[0m, \u001b[38;5;34m256\u001b[0m)                 │         \u001b[38;5;34m131,328\u001b[0m │\n",
              "├──────────────────────────────────────┼─────────────────────────────┼─────────────────┤\n",
              "│ batch_normalization_23               │ (\u001b[38;5;45mNone\u001b[0m, \u001b[38;5;34m256\u001b[0m)                 │           \u001b[38;5;34m1,024\u001b[0m │\n",
              "│ (\u001b[38;5;33mBatchNormalization\u001b[0m)                 │                             │                 │\n",
              "├──────────────────────────────────────┼─────────────────────────────┼─────────────────┤\n",
              "│ dropout_13 (\u001b[38;5;33mDropout\u001b[0m)                 │ (\u001b[38;5;45mNone\u001b[0m, \u001b[38;5;34m256\u001b[0m)                 │               \u001b[38;5;34m0\u001b[0m │\n",
              "├──────────────────────────────────────┼─────────────────────────────┼─────────────────┤\n",
              "│ dense_14 (\u001b[38;5;33mDense\u001b[0m)                     │ (\u001b[38;5;45mNone\u001b[0m, \u001b[38;5;34m1\u001b[0m)                   │             \u001b[38;5;34m257\u001b[0m │\n",
              "└──────────────────────────────────────┴─────────────────────────────┴─────────────────┘\n"
            ],
            "text/html": [
              "<pre style=\"white-space:pre;overflow-x:auto;line-height:normal;font-family:Menlo,'DejaVu Sans Mono',consolas,'Courier New',monospace\">┏━━━━━━━━━━━━━━━━━━━━━━━━━━━━━━━━━━━━━━┳━━━━━━━━━━━━━━━━━━━━━━━━━━━━━┳━━━━━━━━━━━━━━━━━┓\n",
              "┃<span style=\"font-weight: bold\"> Layer (type)                         </span>┃<span style=\"font-weight: bold\"> Output Shape                </span>┃<span style=\"font-weight: bold\">         Param # </span>┃\n",
              "┡━━━━━━━━━━━━━━━━━━━━━━━━━━━━━━━━━━━━━━╇━━━━━━━━━━━━━━━━━━━━━━━━━━━━━╇━━━━━━━━━━━━━━━━━┩\n",
              "│ conv2d_15 (<span style=\"color: #0087ff; text-decoration-color: #0087ff\">Conv2D</span>)                   │ (<span style=\"color: #00d7ff; text-decoration-color: #00d7ff\">None</span>, <span style=\"color: #00af00; text-decoration-color: #00af00\">224</span>, <span style=\"color: #00af00; text-decoration-color: #00af00\">224</span>, <span style=\"color: #00af00; text-decoration-color: #00af00\">32</span>)        │             <span style=\"color: #00af00; text-decoration-color: #00af00\">896</span> │\n",
              "├──────────────────────────────────────┼─────────────────────────────┼─────────────────┤\n",
              "│ batch_normalization_18               │ (<span style=\"color: #00d7ff; text-decoration-color: #00d7ff\">None</span>, <span style=\"color: #00af00; text-decoration-color: #00af00\">224</span>, <span style=\"color: #00af00; text-decoration-color: #00af00\">224</span>, <span style=\"color: #00af00; text-decoration-color: #00af00\">32</span>)        │             <span style=\"color: #00af00; text-decoration-color: #00af00\">128</span> │\n",
              "│ (<span style=\"color: #0087ff; text-decoration-color: #0087ff\">BatchNormalization</span>)                 │                             │                 │\n",
              "├──────────────────────────────────────┼─────────────────────────────┼─────────────────┤\n",
              "│ max_pooling2d_13 (<span style=\"color: #0087ff; text-decoration-color: #0087ff\">MaxPooling2D</span>)      │ (<span style=\"color: #00d7ff; text-decoration-color: #00d7ff\">None</span>, <span style=\"color: #00af00; text-decoration-color: #00af00\">112</span>, <span style=\"color: #00af00; text-decoration-color: #00af00\">112</span>, <span style=\"color: #00af00; text-decoration-color: #00af00\">32</span>)        │               <span style=\"color: #00af00; text-decoration-color: #00af00\">0</span> │\n",
              "├──────────────────────────────────────┼─────────────────────────────┼─────────────────┤\n",
              "│ conv2d_16 (<span style=\"color: #0087ff; text-decoration-color: #0087ff\">Conv2D</span>)                   │ (<span style=\"color: #00d7ff; text-decoration-color: #00d7ff\">None</span>, <span style=\"color: #00af00; text-decoration-color: #00af00\">112</span>, <span style=\"color: #00af00; text-decoration-color: #00af00\">112</span>, <span style=\"color: #00af00; text-decoration-color: #00af00\">64</span>)        │          <span style=\"color: #00af00; text-decoration-color: #00af00\">18,496</span> │\n",
              "├──────────────────────────────────────┼─────────────────────────────┼─────────────────┤\n",
              "│ batch_normalization_19               │ (<span style=\"color: #00d7ff; text-decoration-color: #00d7ff\">None</span>, <span style=\"color: #00af00; text-decoration-color: #00af00\">112</span>, <span style=\"color: #00af00; text-decoration-color: #00af00\">112</span>, <span style=\"color: #00af00; text-decoration-color: #00af00\">64</span>)        │             <span style=\"color: #00af00; text-decoration-color: #00af00\">256</span> │\n",
              "│ (<span style=\"color: #0087ff; text-decoration-color: #0087ff\">BatchNormalization</span>)                 │                             │                 │\n",
              "├──────────────────────────────────────┼─────────────────────────────┼─────────────────┤\n",
              "│ max_pooling2d_14 (<span style=\"color: #0087ff; text-decoration-color: #0087ff\">MaxPooling2D</span>)      │ (<span style=\"color: #00d7ff; text-decoration-color: #00d7ff\">None</span>, <span style=\"color: #00af00; text-decoration-color: #00af00\">56</span>, <span style=\"color: #00af00; text-decoration-color: #00af00\">56</span>, <span style=\"color: #00af00; text-decoration-color: #00af00\">64</span>)          │               <span style=\"color: #00af00; text-decoration-color: #00af00\">0</span> │\n",
              "├──────────────────────────────────────┼─────────────────────────────┼─────────────────┤\n",
              "│ conv2d_17 (<span style=\"color: #0087ff; text-decoration-color: #0087ff\">Conv2D</span>)                   │ (<span style=\"color: #00d7ff; text-decoration-color: #00d7ff\">None</span>, <span style=\"color: #00af00; text-decoration-color: #00af00\">56</span>, <span style=\"color: #00af00; text-decoration-color: #00af00\">56</span>, <span style=\"color: #00af00; text-decoration-color: #00af00\">128</span>)         │          <span style=\"color: #00af00; text-decoration-color: #00af00\">73,856</span> │\n",
              "├──────────────────────────────────────┼─────────────────────────────┼─────────────────┤\n",
              "│ batch_normalization_20               │ (<span style=\"color: #00d7ff; text-decoration-color: #00d7ff\">None</span>, <span style=\"color: #00af00; text-decoration-color: #00af00\">56</span>, <span style=\"color: #00af00; text-decoration-color: #00af00\">56</span>, <span style=\"color: #00af00; text-decoration-color: #00af00\">128</span>)         │             <span style=\"color: #00af00; text-decoration-color: #00af00\">512</span> │\n",
              "│ (<span style=\"color: #0087ff; text-decoration-color: #0087ff\">BatchNormalization</span>)                 │                             │                 │\n",
              "├──────────────────────────────────────┼─────────────────────────────┼─────────────────┤\n",
              "│ max_pooling2d_15 (<span style=\"color: #0087ff; text-decoration-color: #0087ff\">MaxPooling2D</span>)      │ (<span style=\"color: #00d7ff; text-decoration-color: #00d7ff\">None</span>, <span style=\"color: #00af00; text-decoration-color: #00af00\">28</span>, <span style=\"color: #00af00; text-decoration-color: #00af00\">28</span>, <span style=\"color: #00af00; text-decoration-color: #00af00\">128</span>)         │               <span style=\"color: #00af00; text-decoration-color: #00af00\">0</span> │\n",
              "├──────────────────────────────────────┼─────────────────────────────┼─────────────────┤\n",
              "│ dropout_10 (<span style=\"color: #0087ff; text-decoration-color: #0087ff\">Dropout</span>)                 │ (<span style=\"color: #00d7ff; text-decoration-color: #00d7ff\">None</span>, <span style=\"color: #00af00; text-decoration-color: #00af00\">28</span>, <span style=\"color: #00af00; text-decoration-color: #00af00\">28</span>, <span style=\"color: #00af00; text-decoration-color: #00af00\">128</span>)         │               <span style=\"color: #00af00; text-decoration-color: #00af00\">0</span> │\n",
              "├──────────────────────────────────────┼─────────────────────────────┼─────────────────┤\n",
              "│ conv2d_18 (<span style=\"color: #0087ff; text-decoration-color: #0087ff\">Conv2D</span>)                   │ (<span style=\"color: #00d7ff; text-decoration-color: #00d7ff\">None</span>, <span style=\"color: #00af00; text-decoration-color: #00af00\">28</span>, <span style=\"color: #00af00; text-decoration-color: #00af00\">28</span>, <span style=\"color: #00af00; text-decoration-color: #00af00\">256</span>)         │         <span style=\"color: #00af00; text-decoration-color: #00af00\">295,168</span> │\n",
              "├──────────────────────────────────────┼─────────────────────────────┼─────────────────┤\n",
              "│ batch_normalization_21               │ (<span style=\"color: #00d7ff; text-decoration-color: #00d7ff\">None</span>, <span style=\"color: #00af00; text-decoration-color: #00af00\">28</span>, <span style=\"color: #00af00; text-decoration-color: #00af00\">28</span>, <span style=\"color: #00af00; text-decoration-color: #00af00\">256</span>)         │           <span style=\"color: #00af00; text-decoration-color: #00af00\">1,024</span> │\n",
              "│ (<span style=\"color: #0087ff; text-decoration-color: #0087ff\">BatchNormalization</span>)                 │                             │                 │\n",
              "├──────────────────────────────────────┼─────────────────────────────┼─────────────────┤\n",
              "│ max_pooling2d_16 (<span style=\"color: #0087ff; text-decoration-color: #0087ff\">MaxPooling2D</span>)      │ (<span style=\"color: #00d7ff; text-decoration-color: #00d7ff\">None</span>, <span style=\"color: #00af00; text-decoration-color: #00af00\">14</span>, <span style=\"color: #00af00; text-decoration-color: #00af00\">14</span>, <span style=\"color: #00af00; text-decoration-color: #00af00\">256</span>)         │               <span style=\"color: #00af00; text-decoration-color: #00af00\">0</span> │\n",
              "├──────────────────────────────────────┼─────────────────────────────┼─────────────────┤\n",
              "│ dropout_11 (<span style=\"color: #0087ff; text-decoration-color: #0087ff\">Dropout</span>)                 │ (<span style=\"color: #00d7ff; text-decoration-color: #00d7ff\">None</span>, <span style=\"color: #00af00; text-decoration-color: #00af00\">14</span>, <span style=\"color: #00af00; text-decoration-color: #00af00\">14</span>, <span style=\"color: #00af00; text-decoration-color: #00af00\">256</span>)         │               <span style=\"color: #00af00; text-decoration-color: #00af00\">0</span> │\n",
              "├──────────────────────────────────────┼─────────────────────────────┼─────────────────┤\n",
              "│ conv2d_19 (<span style=\"color: #0087ff; text-decoration-color: #0087ff\">Conv2D</span>)                   │ (<span style=\"color: #00d7ff; text-decoration-color: #00d7ff\">None</span>, <span style=\"color: #00af00; text-decoration-color: #00af00\">14</span>, <span style=\"color: #00af00; text-decoration-color: #00af00\">14</span>, <span style=\"color: #00af00; text-decoration-color: #00af00\">512</span>)         │       <span style=\"color: #00af00; text-decoration-color: #00af00\">3,277,312</span> │\n",
              "├──────────────────────────────────────┼─────────────────────────────┼─────────────────┤\n",
              "│ batch_normalization_22               │ (<span style=\"color: #00d7ff; text-decoration-color: #00d7ff\">None</span>, <span style=\"color: #00af00; text-decoration-color: #00af00\">14</span>, <span style=\"color: #00af00; text-decoration-color: #00af00\">14</span>, <span style=\"color: #00af00; text-decoration-color: #00af00\">512</span>)         │           <span style=\"color: #00af00; text-decoration-color: #00af00\">2,048</span> │\n",
              "│ (<span style=\"color: #0087ff; text-decoration-color: #0087ff\">BatchNormalization</span>)                 │                             │                 │\n",
              "├──────────────────────────────────────┼─────────────────────────────┼─────────────────┤\n",
              "│ max_pooling2d_17 (<span style=\"color: #0087ff; text-decoration-color: #0087ff\">MaxPooling2D</span>)      │ (<span style=\"color: #00d7ff; text-decoration-color: #00d7ff\">None</span>, <span style=\"color: #00af00; text-decoration-color: #00af00\">7</span>, <span style=\"color: #00af00; text-decoration-color: #00af00\">7</span>, <span style=\"color: #00af00; text-decoration-color: #00af00\">512</span>)           │               <span style=\"color: #00af00; text-decoration-color: #00af00\">0</span> │\n",
              "├──────────────────────────────────────┼─────────────────────────────┼─────────────────┤\n",
              "│ dropout_12 (<span style=\"color: #0087ff; text-decoration-color: #0087ff\">Dropout</span>)                 │ (<span style=\"color: #00d7ff; text-decoration-color: #00d7ff\">None</span>, <span style=\"color: #00af00; text-decoration-color: #00af00\">7</span>, <span style=\"color: #00af00; text-decoration-color: #00af00\">7</span>, <span style=\"color: #00af00; text-decoration-color: #00af00\">512</span>)           │               <span style=\"color: #00af00; text-decoration-color: #00af00\">0</span> │\n",
              "├──────────────────────────────────────┼─────────────────────────────┼─────────────────┤\n",
              "│ se_block (<span style=\"color: #0087ff; text-decoration-color: #0087ff\">SEBlock</span>)                   │ (<span style=\"color: #00d7ff; text-decoration-color: #00d7ff\">None</span>, <span style=\"color: #00af00; text-decoration-color: #00af00\">7</span>, <span style=\"color: #00af00; text-decoration-color: #00af00\">7</span>, <span style=\"color: #00af00; text-decoration-color: #00af00\">512</span>)           │          <span style=\"color: #00af00; text-decoration-color: #00af00\">32,768</span> │\n",
              "├──────────────────────────────────────┼─────────────────────────────┼─────────────────┤\n",
              "│ global_average_pooling2d_7           │ (<span style=\"color: #00d7ff; text-decoration-color: #00d7ff\">None</span>, <span style=\"color: #00af00; text-decoration-color: #00af00\">512</span>)                 │               <span style=\"color: #00af00; text-decoration-color: #00af00\">0</span> │\n",
              "│ (<span style=\"color: #0087ff; text-decoration-color: #0087ff\">GlobalAveragePooling2D</span>)             │                             │                 │\n",
              "├──────────────────────────────────────┼─────────────────────────────┼─────────────────┤\n",
              "│ dense_13 (<span style=\"color: #0087ff; text-decoration-color: #0087ff\">Dense</span>)                     │ (<span style=\"color: #00d7ff; text-decoration-color: #00d7ff\">None</span>, <span style=\"color: #00af00; text-decoration-color: #00af00\">256</span>)                 │         <span style=\"color: #00af00; text-decoration-color: #00af00\">131,328</span> │\n",
              "├──────────────────────────────────────┼─────────────────────────────┼─────────────────┤\n",
              "│ batch_normalization_23               │ (<span style=\"color: #00d7ff; text-decoration-color: #00d7ff\">None</span>, <span style=\"color: #00af00; text-decoration-color: #00af00\">256</span>)                 │           <span style=\"color: #00af00; text-decoration-color: #00af00\">1,024</span> │\n",
              "│ (<span style=\"color: #0087ff; text-decoration-color: #0087ff\">BatchNormalization</span>)                 │                             │                 │\n",
              "├──────────────────────────────────────┼─────────────────────────────┼─────────────────┤\n",
              "│ dropout_13 (<span style=\"color: #0087ff; text-decoration-color: #0087ff\">Dropout</span>)                 │ (<span style=\"color: #00d7ff; text-decoration-color: #00d7ff\">None</span>, <span style=\"color: #00af00; text-decoration-color: #00af00\">256</span>)                 │               <span style=\"color: #00af00; text-decoration-color: #00af00\">0</span> │\n",
              "├──────────────────────────────────────┼─────────────────────────────┼─────────────────┤\n",
              "│ dense_14 (<span style=\"color: #0087ff; text-decoration-color: #0087ff\">Dense</span>)                     │ (<span style=\"color: #00d7ff; text-decoration-color: #00d7ff\">None</span>, <span style=\"color: #00af00; text-decoration-color: #00af00\">1</span>)                   │             <span style=\"color: #00af00; text-decoration-color: #00af00\">257</span> │\n",
              "└──────────────────────────────────────┴─────────────────────────────┴─────────────────┘\n",
              "</pre>\n"
            ]
          },
          "metadata": {}
        },
        {
          "output_type": "display_data",
          "data": {
            "text/plain": [
              "\u001b[1m Total params: \u001b[0m\u001b[38;5;34m3,835,073\u001b[0m (14.63 MB)\n"
            ],
            "text/html": [
              "<pre style=\"white-space:pre;overflow-x:auto;line-height:normal;font-family:Menlo,'DejaVu Sans Mono',consolas,'Courier New',monospace\"><span style=\"font-weight: bold\"> Total params: </span><span style=\"color: #00af00; text-decoration-color: #00af00\">3,835,073</span> (14.63 MB)\n",
              "</pre>\n"
            ]
          },
          "metadata": {}
        },
        {
          "output_type": "display_data",
          "data": {
            "text/plain": [
              "\u001b[1m Trainable params: \u001b[0m\u001b[38;5;34m3,832,577\u001b[0m (14.62 MB)\n"
            ],
            "text/html": [
              "<pre style=\"white-space:pre;overflow-x:auto;line-height:normal;font-family:Menlo,'DejaVu Sans Mono',consolas,'Courier New',monospace\"><span style=\"font-weight: bold\"> Trainable params: </span><span style=\"color: #00af00; text-decoration-color: #00af00\">3,832,577</span> (14.62 MB)\n",
              "</pre>\n"
            ]
          },
          "metadata": {}
        },
        {
          "output_type": "display_data",
          "data": {
            "text/plain": [
              "\u001b[1m Non-trainable params: \u001b[0m\u001b[38;5;34m2,496\u001b[0m (9.75 KB)\n"
            ],
            "text/html": [
              "<pre style=\"white-space:pre;overflow-x:auto;line-height:normal;font-family:Menlo,'DejaVu Sans Mono',consolas,'Courier New',monospace\"><span style=\"font-weight: bold\"> Non-trainable params: </span><span style=\"color: #00af00; text-decoration-color: #00af00\">2,496</span> (9.75 KB)\n",
              "</pre>\n"
            ]
          },
          "metadata": {}
        }
      ],
      "source": [
        "import numpy as np\n",
        "import tensorflow as tf\n",
        "from tensorflow.keras.models import Sequential\n",
        "from tensorflow.keras.layers import (\n",
        "    Conv2D, MaxPooling2D, BatchNormalization,\n",
        "    Dropout, GlobalAveragePooling2D, Dense, Input,\n",
        "    Multiply, Reshape\n",
        ")\n",
        "from tensorflow.keras.optimizers import Adam\n",
        "from tensorflow.keras.callbacks import EarlyStopping, ReduceLROnPlateau, ModelCheckpoint\n",
        "\n",
        "# Set random seeds for reproducibility\n",
        "np.random.seed(42)\n",
        "tf.random.set_seed(42)\n",
        "\n",
        "# Define image dimensions and channels\n",
        "IMG_HEIGHT = 224\n",
        "IMG_WIDTH = 224\n",
        "IMG_CHANNELS = 3\n",
        "\n",
        "# Define a custom SE (Squeeze-and-Excitation) Block as a Keras layer\n",
        "@tf.keras.utils.register_keras_serializable()\n",
        "class SEBlock(tf.keras.layers.Layer):\n",
        "    def __init__(self, reduction=16, **kwargs):\n",
        "        super(SEBlock, self).__init__(**kwargs)\n",
        "        self.reduction = reduction\n",
        "\n",
        "    def build(self, input_shape):\n",
        "        filters = input_shape[-1]\n",
        "        self.global_avg_pool = GlobalAveragePooling2D()\n",
        "        self.reshape = Reshape((1, 1, filters))\n",
        "        self.dense1 = Dense(filters // self.reduction, activation='relu',\n",
        "                            kernel_initializer='he_normal', use_bias=False)\n",
        "        self.dense2 = Dense(filters, activation='sigmoid',\n",
        "                            kernel_initializer='he_normal', use_bias=False)\n",
        "        super(SEBlock, self).build(input_shape)\n",
        "\n",
        "    def call(self, inputs):\n",
        "        x = self.global_avg_pool(inputs)\n",
        "        x = self.reshape(x)\n",
        "        x = self.dense1(x)\n",
        "        x = self.dense2(x)\n",
        "        return Multiply()([inputs, x])\n",
        "\n",
        "    def get_config(self):\n",
        "        config = super(SEBlock, self).get_config()\n",
        "        config.update({'reduction': self.reduction})\n",
        "        return config\n",
        "\n",
        "# Build the CNN model with the architectural modifications\n",
        "model = Sequential([\n",
        "    Input(shape=(IMG_HEIGHT, IMG_WIDTH, IMG_CHANNELS)),\n",
        "\n",
        "    # Conv Block 1\n",
        "    Conv2D(32, (3, 3), activation='relu', padding='same'),\n",
        "    BatchNormalization(),\n",
        "    MaxPooling2D(pool_size=(2, 2)),\n",
        "\n",
        "    # Conv Block 2\n",
        "    Conv2D(64, (3, 3), activation='relu', padding='same'),\n",
        "    BatchNormalization(),\n",
        "    MaxPooling2D(pool_size=(2, 2)),\n",
        "\n",
        "    # Conv Block 3\n",
        "    Conv2D(128, (3, 3), activation='relu', padding='same'),\n",
        "    BatchNormalization(),\n",
        "    MaxPooling2D(pool_size=(2, 2)),\n",
        "    Dropout(0.2),  # Reduce overfitting\n",
        "\n",
        "    # Conv Block 4\n",
        "    Conv2D(256, (3, 3), activation='relu', padding='same'),\n",
        "    BatchNormalization(),\n",
        "    MaxPooling2D(pool_size=(2, 2)),\n",
        "    Dropout(0.2),\n",
        "\n",
        "    # Conv Block 5 - Increased depth with a 5×5 kernel for broader feature extraction\n",
        "    Conv2D(512, (5, 5), activation='relu', padding='same'),\n",
        "    BatchNormalization(),\n",
        "    MaxPooling2D(pool_size=(2, 2)),\n",
        "    Dropout(0.2),\n",
        "\n",
        "    # Incorporate SE Attention Block to recalibrate channel-wise features\n",
        "    SEBlock(reduction=16),\n",
        "\n",
        "    # Replace Flatten with Global Average Pooling (GAP)\n",
        "    GlobalAveragePooling2D(),\n",
        "\n",
        "    # Improved Fully Connected Layers\n",
        "    Dense(256, activation='relu'),\n",
        "    BatchNormalization(),\n",
        "    Dropout(0.5),\n",
        "\n",
        "    Dense(1, activation='sigmoid')  # Output for binary classification\n",
        "])\n",
        "\n",
        "# View model summary\n",
        "model.summary()"
      ]
    },
    {
      "cell_type": "markdown",
      "metadata": {
        "id": "yPfEeni8dLGd"
      },
      "source": [
        "Model Training"
      ]
    },
    {
      "cell_type": "code",
      "execution_count": null,
      "metadata": {
        "colab": {
          "base_uri": "https://localhost:8080/"
        },
        "id": "utkcSiVxdJ9t",
        "outputId": "1bbcf704-8405-4b02-cb5a-6bd6aea97a70"
      },
      "outputs": [
        {
          "output_type": "stream",
          "name": "stdout",
          "text": [
            "Epoch 1/50\n",
            "\u001b[1m129/129\u001b[0m \u001b[32m━━━━━━━━━━━━━━━━━━━━\u001b[0m\u001b[37m\u001b[0m \u001b[1m908s\u001b[0m 7s/step - accuracy: 0.7848 - auc: 0.8864 - fn: 345.3000 - fp: 55.4769 - loss: 0.4858 - precision: 0.9510 - recall: 0.7501 - tn: 490.2538 - tp: 1182.6384 - val_accuracy: 0.7293 - val_auc: 0.5000 - val_fn: 0.0000e+00 - val_fp: 317.0000 - val_loss: 4.6786 - val_precision: 0.7293 - val_recall: 1.0000 - val_tn: 0.0000e+00 - val_tp: 854.0000 - learning_rate: 0.0010\n",
            "Epoch 2/50\n",
            "\u001b[1m129/129\u001b[0m \u001b[32m━━━━━━━━━━━━━━━━━━━━\u001b[0m\u001b[37m\u001b[0m \u001b[1m883s\u001b[0m 7s/step - accuracy: 0.8609 - auc: 0.9410 - fn: 221.0846 - fp: 63.6769 - loss: 0.3182 - precision: 0.9522 - recall: 0.8534 - tn: 493.9769 - tp: 1294.9308 - val_accuracy: 0.7293 - val_auc: 0.5000 - val_fn: 0.0000e+00 - val_fp: 317.0000 - val_loss: 5.3000 - val_precision: 0.7293 - val_recall: 1.0000 - val_tn: 0.0000e+00 - val_tp: 854.0000 - learning_rate: 0.0010\n",
            "Epoch 3/50\n",
            "\u001b[1m129/129\u001b[0m \u001b[32m━━━━━━━━━━━━━━━━━━━━\u001b[0m\u001b[37m\u001b[0m \u001b[1m892s\u001b[0m 7s/step - accuracy: 0.9100 - auc: 0.9679 - fn: 151.1154 - fp: 39.6308 - loss: 0.2291 - precision: 0.9743 - recall: 0.9019 - tn: 512.4385 - tp: 1383.4231 - val_accuracy: 0.7293 - val_auc: 0.5000 - val_fn: 0.0000e+00 - val_fp: 317.0000 - val_loss: 3.4739 - val_precision: 0.7293 - val_recall: 1.0000 - val_tn: 0.0000e+00 - val_tp: 854.0000 - learning_rate: 0.0010\n",
            "Epoch 4/50\n",
            "\u001b[1m129/129\u001b[0m \u001b[32m━━━━━━━━━━━━━━━━━━━━\u001b[0m\u001b[37m\u001b[0m \u001b[1m910s\u001b[0m 7s/step - accuracy: 0.8961 - auc: 0.9631 - fn: 163.1077 - fp: 45.3846 - loss: 0.2534 - precision: 0.9650 - recall: 0.8881 - tn: 523.1154 - tp: 1355.2230 - val_accuracy: 0.8266 - val_auc: 0.9659 - val_fn: 1.0000 - val_fp: 202.0000 - val_loss: 0.3954 - val_precision: 0.8085 - val_recall: 0.9988 - val_tn: 115.0000 - val_tp: 853.0000 - learning_rate: 0.0010\n",
            "Epoch 5/50\n",
            "\u001b[1m129/129\u001b[0m \u001b[32m━━━━━━━━━━━━━━━━━━━━\u001b[0m\u001b[37m\u001b[0m \u001b[1m913s\u001b[0m 7s/step - accuracy: 0.9265 - auc: 0.9765 - fn: 126.1769 - fp: 40.7385 - loss: 0.1914 - precision: 0.9740 - recall: 0.9244 - tn: 514.4923 - tp: 1401.1846 - val_accuracy: 0.4663 - val_auc: 0.7412 - val_fn: 622.0000 - val_fp: 3.0000 - val_loss: 3.5869 - val_precision: 0.9872 - val_recall: 0.2717 - val_tn: 314.0000 - val_tp: 232.0000 - learning_rate: 0.0010\n",
            "Epoch 6/50\n",
            "\u001b[1m129/129\u001b[0m \u001b[32m━━━━━━━━━━━━━━━━━━━━\u001b[0m\u001b[37m\u001b[0m \u001b[1m901s\u001b[0m 7s/step - accuracy: 0.9205 - auc: 0.9719 - fn: 118.6000 - fp: 44.9846 - loss: 0.2097 - precision: 0.9691 - recall: 0.9208 - tn: 512.3307 - tp: 1391.0615 - val_accuracy: 0.7310 - val_auc: 0.9345 - val_fn: 1.0000 - val_fp: 314.0000 - val_loss: 0.9078 - val_precision: 0.7309 - val_recall: 0.9988 - val_tn: 3.0000 - val_tp: 853.0000 - learning_rate: 0.0010\n",
            "Epoch 7/50\n",
            "\u001b[1m129/129\u001b[0m \u001b[32m━━━━━━━━━━━━━━━━━━━━\u001b[0m\u001b[37m\u001b[0m \u001b[1m0s\u001b[0m 6s/step - accuracy: 0.9238 - auc: 0.9741 - fn: 119.7829 - fp: 41.5581 - loss: 0.2029 - precision: 0.9698 - recall: 0.9237 - tn: 517.7287 - tp: 1395.9845\n",
            "Epoch 7: ReduceLROnPlateau reducing learning rate to 0.00010000000474974513.\n",
            "\u001b[1m129/129\u001b[0m \u001b[32m━━━━━━━━━━━━━━━━━━━━\u001b[0m\u001b[37m\u001b[0m \u001b[1m882s\u001b[0m 7s/step - accuracy: 0.9238 - auc: 0.9741 - fn: 120.7615 - fp: 41.8769 - loss: 0.2029 - precision: 0.9698 - recall: 0.9237 - tn: 521.6230 - tp: 1406.3616 - val_accuracy: 0.3834 - val_auc: 0.9608 - val_fn: 722.0000 - val_fp: 0.0000e+00 - val_loss: 1.4128 - val_precision: 1.0000 - val_recall: 0.1546 - val_tn: 317.0000 - val_tp: 132.0000 - learning_rate: 0.0010\n",
            "Epoch 8/50\n",
            "\u001b[1m129/129\u001b[0m \u001b[32m━━━━━━━━━━━━━━━━━━━━\u001b[0m\u001b[37m\u001b[0m \u001b[1m882s\u001b[0m 7s/step - accuracy: 0.9166 - auc: 0.9745 - fn: 135.8308 - fp: 33.8154 - loss: 0.2035 - precision: 0.9737 - recall: 0.9110 - tn: 517.5692 - tp: 1382.6615 - val_accuracy: 0.8676 - val_auc: 0.9702 - val_fn: 4.0000 - val_fp: 151.0000 - val_loss: 0.3461 - val_precision: 0.8492 - val_recall: 0.9953 - val_tn: 166.0000 - val_tp: 850.0000 - learning_rate: 1.0000e-04\n",
            "Epoch 9/50\n",
            "\u001b[1m129/129\u001b[0m \u001b[32m━━━━━━━━━━━━━━━━━━━━\u001b[0m\u001b[37m\u001b[0m \u001b[1m877s\u001b[0m 7s/step - accuracy: 0.9217 - auc: 0.9787 - fn: 110.1000 - fp: 41.9538 - loss: 0.1841 - precision: 0.9713 - recall: 0.9217 - tn: 511.0615 - tp: 1405.8693 - val_accuracy: 0.9505 - val_auc: 0.9851 - val_fn: 15.0000 - val_fp: 43.0000 - val_loss: 0.1311 - val_precision: 0.9512 - val_recall: 0.9824 - val_tn: 274.0000 - val_tp: 839.0000 - learning_rate: 1.0000e-04\n",
            "Epoch 10/50\n",
            "\u001b[1m129/129\u001b[0m \u001b[32m━━━━━━━━━━━━━━━━━━━━\u001b[0m\u001b[37m\u001b[0m \u001b[1m877s\u001b[0m 7s/step - accuracy: 0.9414 - auc: 0.9864 - fn: 91.3615 - fp: 30.9538 - loss: 0.1489 - precision: 0.9762 - recall: 0.9416 - tn: 541.9385 - tp: 1410.3077 - val_accuracy: 0.9513 - val_auc: 0.9891 - val_fn: 42.0000 - val_fp: 15.0000 - val_loss: 0.1303 - val_precision: 0.9819 - val_recall: 0.9508 - val_tn: 302.0000 - val_tp: 812.0000 - learning_rate: 1.0000e-04\n",
            "Epoch 11/50\n",
            "\u001b[1m129/129\u001b[0m \u001b[32m━━━━━━━━━━━━━━━━━━━━\u001b[0m\u001b[37m\u001b[0m \u001b[1m886s\u001b[0m 7s/step - accuracy: 0.9475 - auc: 0.9860 - fn: 74.3692 - fp: 35.0231 - loss: 0.1478 - precision: 0.9780 - recall: 0.9491 - tn: 536.6462 - tp: 1422.7230 - val_accuracy: 0.9556 - val_auc: 0.9885 - val_fn: 12.0000 - val_fp: 40.0000 - val_loss: 0.1177 - val_precision: 0.9546 - val_recall: 0.9859 - val_tn: 277.0000 - val_tp: 842.0000 - learning_rate: 1.0000e-04\n",
            "Epoch 12/50\n",
            "\u001b[1m129/129\u001b[0m \u001b[32m━━━━━━━━━━━━━━━━━━━━\u001b[0m\u001b[37m\u001b[0m \u001b[1m882s\u001b[0m 7s/step - accuracy: 0.9420 - auc: 0.9831 - fn: 88.9000 - fp: 32.0538 - loss: 0.1628 - precision: 0.9775 - recall: 0.9409 - tn: 543.1616 - tp: 1417.5846 - val_accuracy: 0.8241 - val_auc: 0.9803 - val_fn: 204.0000 - val_fp: 2.0000 - val_loss: 0.4970 - val_precision: 0.9969 - val_recall: 0.7611 - val_tn: 315.0000 - val_tp: 650.0000 - learning_rate: 1.0000e-04\n",
            "Epoch 13/50\n",
            "\u001b[1m129/129\u001b[0m \u001b[32m━━━━━━━━━━━━━━━━━━━━\u001b[0m\u001b[37m\u001b[0m \u001b[1m906s\u001b[0m 7s/step - accuracy: 0.9487 - auc: 0.9878 - fn: 81.6385 - fp: 30.6308 - loss: 0.1367 - precision: 0.9821 - recall: 0.9475 - tn: 527.7769 - tp: 1451.6923 - val_accuracy: 0.8164 - val_auc: 0.9651 - val_fn: 0.0000e+00 - val_fp: 215.0000 - val_loss: 0.4988 - val_precision: 0.7989 - val_recall: 1.0000 - val_tn: 102.0000 - val_tp: 854.0000 - learning_rate: 1.0000e-04\n",
            "Epoch 14/50\n",
            "\u001b[1m129/129\u001b[0m \u001b[32m━━━━━━━━━━━━━━━━━━━━\u001b[0m\u001b[37m\u001b[0m \u001b[1m0s\u001b[0m 6s/step - accuracy: 0.9475 - auc: 0.9889 - fn: 86.7287 - fp: 30.6047 - loss: 0.1315 - precision: 0.9797 - recall: 0.9474 - tn: 527.8915 - tp: 1430.2791\n",
            "Epoch 14: ReduceLROnPlateau reducing learning rate to 1.0000000474974514e-05.\n",
            "\u001b[1m129/129\u001b[0m \u001b[32m━━━━━━━━━━━━━━━━━━━━\u001b[0m\u001b[37m\u001b[0m \u001b[1m888s\u001b[0m 7s/step - accuracy: 0.9474 - auc: 0.9888 - fn: 87.4154 - fp: 30.8846 - loss: 0.1316 - precision: 0.9797 - recall: 0.9473 - tn: 531.8307 - tp: 1440.9385 - val_accuracy: 0.9471 - val_auc: 0.9900 - val_fn: 47.0000 - val_fp: 15.0000 - val_loss: 0.1500 - val_precision: 0.9818 - val_recall: 0.9450 - val_tn: 302.0000 - val_tp: 807.0000 - learning_rate: 1.0000e-04\n",
            "Epoch 15/50\n",
            "\u001b[1m129/129\u001b[0m \u001b[32m━━━━━━━━━━━━━━━━━━━━\u001b[0m\u001b[37m\u001b[0m \u001b[1m884s\u001b[0m 7s/step - accuracy: 0.9358 - auc: 0.9844 - fn: 96.6692 - fp: 32.4385 - loss: 0.1581 - precision: 0.9785 - recall: 0.9330 - tn: 528.2154 - tp: 1415.4539 - val_accuracy: 0.8890 - val_auc: 0.9850 - val_fn: 127.0000 - val_fp: 3.0000 - val_loss: 0.3468 - val_precision: 0.9959 - val_recall: 0.8513 - val_tn: 314.0000 - val_tp: 727.0000 - learning_rate: 1.0000e-05\n",
            "Epoch 16/50\n",
            "\u001b[1m129/129\u001b[0m \u001b[32m━━━━━━━━━━━━━━━━━━━━\u001b[0m\u001b[37m\u001b[0m \u001b[1m887s\u001b[0m 7s/step - accuracy: 0.9484 - auc: 0.9873 - fn: 80.7846 - fp: 23.6462 - loss: 0.1394 - precision: 0.9840 - recall: 0.9451 - tn: 530.2385 - tp: 1451.2693 - val_accuracy: 0.9266 - val_auc: 0.9881 - val_fn: 80.0000 - val_fp: 6.0000 - val_loss: 0.2211 - val_precision: 0.9923 - val_recall: 0.9063 - val_tn: 311.0000 - val_tp: 774.0000 - learning_rate: 1.0000e-05\n"
          ]
        }
      ],
      "source": [
        "# Compile the model with binary_crossentropy and multiple metrics\n",
        "model.compile(\n",
        "    optimizer=Adam(learning_rate=1e-3),\n",
        "    loss='binary_crossentropy',\n",
        "    metrics=[\n",
        "        'accuracy',\n",
        "        tf.keras.metrics.Precision(name='precision'),\n",
        "        tf.keras.metrics.Recall(name='recall'),\n",
        "        tf.keras.metrics.AUC(name='auc'),\n",
        "        tf.keras.metrics.TruePositives(name='tp'),\n",
        "        tf.keras.metrics.FalsePositives(name='fp'),\n",
        "        tf.keras.metrics.TrueNegatives(name='tn'),\n",
        "        tf.keras.metrics.FalseNegatives(name='fn')\n",
        "    ]\n",
        ")\n",
        "\n",
        "# Set callbacks\n",
        "early_stop = EarlyStopping(monitor='val_loss', patience=5, restore_best_weights=True)\n",
        "lr_reduce = ReduceLROnPlateau(monitor='val_loss', factor=0.1, patience=3, verbose=1)\n",
        "checkpoint = ModelCheckpoint('best_model.keras', monitor='val_accuracy', save_best_only=True)\n",
        "\n",
        "# Train the model\n",
        "# Ensure train_gen, val_gen, and class_weights are defined prior to training.\n",
        "history = model.fit(\n",
        "    train_gen,\n",
        "    epochs=50,\n",
        "    validation_data=val_gen,\n",
        "    callbacks=[early_stop, lr_reduce, checkpoint],\n",
        "    class_weight=class_weights\n",
        ")"
      ]
    },
    {
      "cell_type": "markdown",
      "metadata": {
        "id": "giol1OPlh7A_"
      },
      "source": [
        "Model Evaluation"
      ]
    },
    {
      "cell_type": "code",
      "execution_count": null,
      "metadata": {
        "id": "TrvO8i5kot2E",
        "colab": {
          "base_uri": "https://localhost:8080/"
        },
        "outputId": "d54ca0b3-afb7-41fd-f747-df6e3985341f"
      },
      "outputs": [
        {
          "output_type": "stream",
          "name": "stdout",
          "text": [
            "\n",
            "Keras Model Evaluation Metrics:\n",
            "\u001b[1m19/19\u001b[0m \u001b[32m━━━━━━━━━━━━━━━━━━━━\u001b[0m\u001b[37m\u001b[0m \u001b[1m30s\u001b[0m 2s/step - accuracy: 0.9471 - auc: 0.7944 - fn: 2.3500 - fp: 13.8000 - loss: 0.1585 - precision: 0.6840 - recall: 0.7899 - tn: 129.4000 - tp: 186.6500\n",
            "\n",
            "Detailed Model Evaluation Results:\n",
            "----------------------------------------\n",
            "Accuracy: 0.9625\n",
            "Auc: 0.9929\n",
            "Fn: 6\n",
            "Fp: 16\n",
            "Loss: 0.1002\n",
            "Precision: 0.9634\n",
            "Recall: 0.9859\n",
            "Tn: 143\n",
            "Tp: 421\n"
          ]
        }
      ],
      "source": [
        "# Evaluate the model and get results\n",
        "print(\"\\nKeras Model Evaluation Metrics:\")\n",
        "results = model.evaluate(\n",
        "    test_gen,\n",
        "    verbose=1,\n",
        "    return_dict=True\n",
        ")\n",
        "\n",
        "# Display all metrics with clear formatting\n",
        "print(\"\\nDetailed Model Evaluation Results:\")\n",
        "print(\"-\" * 40)\n",
        "for metric_name, value in results.items():\n",
        "    # Format the metric name to be more readable\n",
        "    formatted_name = metric_name.replace('_', ' ').title()\n",
        "    # Handle different numeric formats appropriately\n",
        "    if isinstance(value, (int, float)):\n",
        "        if metric_name in ['tp', 'tn', 'fp', 'fn']:  # Count metrics\n",
        "            print(f\"{formatted_name}: {int(value)}\")\n",
        "        else:  # Percentage metrics\n",
        "            print(f\"{formatted_name}: {value:.4f}\")"
      ]
    }
  ],
  "metadata": {
    "colab": {
      "provenance": []
    },
    "kernelspec": {
      "display_name": "Python 3",
      "name": "python3"
    },
    "language_info": {
      "name": "python"
    }
  },
  "nbformat": 4,
  "nbformat_minor": 0
}